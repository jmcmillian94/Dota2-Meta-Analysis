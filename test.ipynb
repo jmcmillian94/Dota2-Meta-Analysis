{
 "cells": [
  {
   "cell_type": "code",
   "execution_count": 1,
   "metadata": {},
   "outputs": [],
   "source": [
    "#import necessary libraries\n",
    "import pandas as pd\n",
    "import requests as req\n",
    "from pandas import json_normalize\n",
    "import numpy as np\n",
    "import openpyxl\n",
    "import plotly.graph_objects as go"
   ]
  },
  {
   "cell_type": "code",
   "execution_count": 2,
   "metadata": {},
   "outputs": [],
   "source": [
    "#define function for calling match data using opendota API\n",
    "#function accepts any number of match ids as input\n",
    "def getMatchDetails(*matchids):\n",
    "    #creating an empty dictionary to store the dataframes created for each api call\n",
    "    match_dataframes = {}\n",
    "\n",
    "    #for loop cycling through each match id, concatenating the id with url for the api call\n",
    "    for matchid in matchids:\n",
    "        url = f\"https://api.opendota.com/api/matches/{matchid}\"\n",
    "        response = req.get(url)\n",
    "    \n",
    "        #if response code is good, store data as json, turn json data into dataframe, name the dataframe using the match id and store in the dictionary\n",
    "        if response.status_code == 200:\n",
    "            json_data = response.json()\n",
    "            df = pd.DataFrame([json_data])\n",
    "            match_dataframes[str(matchid)] = df\n",
    "            print(f\"DataFrame for Match ID {matchid} created successfully.\")\n",
    "        else:\n",
    "            print(f\"Failed to retrieve data for Match ID {matchid}. Status Code: {response.status_code}\")\n",
    "\n",
    "    #funtion returns the dictionary of dataframes\n",
    "    return match_dataframes\n"
   ]
  },
  {
   "cell_type": "code",
   "execution_count": 3,
   "metadata": {},
   "outputs": [
    {
     "name": "stdout",
     "output_type": "stream",
     "text": [
      "200\n"
     ]
    }
   ],
   "source": [
    "#request hero data and make a dataframe from results called hero_data\n",
    "url = \"https://api.opendota.com/api/heroes\"\n",
    "get_heroes = req.get(url)\n",
    "print(get_heroes.status_code)\n",
    "get_heroes = get_heroes.json()\n",
    "hero_data = pd.DataFrame(get_heroes)"
   ]
  },
  {
   "cell_type": "code",
   "execution_count": 4,
   "metadata": {},
   "outputs": [
    {
     "name": "stdout",
     "output_type": "stream",
     "text": [
      "DataFrame for Match ID 7406531302 created successfully.\n",
      "DataFrame for Match ID 7406482053 created successfully.\n",
      "DataFrame for Match ID 7406424070 created successfully.\n",
      "DataFrame for Match ID 7406249246 created successfully.\n",
      "DataFrame for Match ID 7406129687 created successfully.\n",
      "DataFrame for Match ID 7404938247 created successfully.\n",
      "DataFrame for Match ID 7404889653 created successfully.\n",
      "DataFrame for Match ID 7404828649 created successfully.\n",
      "DataFrame for Match ID 7404763579 created successfully.\n",
      "DataFrame for Match ID 7404713057 created successfully.\n",
      "DataFrame for Match ID 7404668056 created successfully.\n",
      "DataFrame for Match ID 7404577536 created successfully.\n",
      "DataFrame for Match ID 7404488494 created successfully.\n",
      "DataFrame for Match ID 7404381764 created successfully.\n",
      "DataFrame for Match ID 7404249421 created successfully.\n",
      "DataFrame for Match ID 7403117150 created successfully.\n",
      "DataFrame for Match ID 7403057517 created successfully.\n",
      "DataFrame for Match ID 7402993316 created successfully.\n",
      "DataFrame for Match ID 7402943509 created successfully.\n",
      "DataFrame for Match ID 7402900929 created successfully.\n",
      "DataFrame for Match ID 7402800418 created successfully.\n",
      "DataFrame for Match ID 7402717428 created successfully.\n",
      "DataFrame for Match ID 7402626373 created successfully.\n",
      "DataFrame for Match ID 7402531427 created successfully.\n",
      "DataFrame for Match ID 7395420827 created successfully.\n",
      "DataFrame for Match ID 7395366323 created successfully.\n",
      "DataFrame for Match ID 7395312177 created successfully.\n",
      "DataFrame for Match ID 7395260041 created successfully.\n",
      "DataFrame for Match ID 7395201088 created successfully.\n",
      "DataFrame for Match ID 7395136494 created successfully.\n",
      "DataFrame for Match ID 7395048377 created successfully.\n",
      "DataFrame for Match ID 7394936686 created successfully.\n",
      "DataFrame for Match ID 7394832000 created successfully.\n",
      "DataFrame for Match ID 7393504676 created successfully.\n",
      "DataFrame for Match ID 7393464447 created successfully.\n",
      "DataFrame for Match ID 7393394521 created successfully.\n",
      "DataFrame for Match ID 7393331922 created successfully.\n",
      "DataFrame for Match ID 7393258586 created successfully.\n",
      "DataFrame for Match ID 7393133836 created successfully.\n",
      "DataFrame for Match ID 7393035065 created successfully.\n",
      "DataFrame for Match ID 7392908789 created successfully.\n",
      "DataFrame for Match ID 7391726311 created successfully.\n",
      "DataFrame for Match ID 7391681832 created successfully.\n",
      "DataFrame for Match ID 7391636050 created successfully.\n",
      "DataFrame for Match ID 7391585748 created successfully.\n",
      "DataFrame for Match ID 7391525205 created successfully.\n",
      "DataFrame for Match ID 7391463411 created successfully.\n",
      "DataFrame for Match ID 7391367511 created successfully.\n",
      "DataFrame for Match ID 7391247517 created successfully.\n",
      "DataFrame for Match ID 7391149823 created successfully.\n",
      "DataFrame for Match ID 7384188114 created successfully.\n",
      "DataFrame for Match ID 7384142800 created successfully.\n",
      "DataFrame for Match ID 7384108524 created successfully.\n",
      "DataFrame for Match ID 7384067209 created successfully.\n",
      "DataFrame for Match ID 7384021535 created successfully.\n",
      "DataFrame for Match ID 7383951137 created successfully.\n",
      "DataFrame for Match ID 7383855952 created successfully.\n",
      "DataFrame for Match ID 7383785611 created successfully.\n",
      "DataFrame for Match ID 7383689600 created successfully.\n",
      "DataFrame for Match ID 7382383379 created successfully.\n",
      "DataFrame for Match ID 7382316646 created successfully.\n",
      "DataFrame for Match ID 7382271393 created successfully.\n",
      "DataFrame for Match ID 7382234341 created successfully.\n",
      "DataFrame for Match ID 7382176499 created successfully.\n",
      "DataFrame for Match ID 7382126763 created successfully.\n",
      "DataFrame for Match ID 7382010427 created successfully.\n",
      "DataFrame for Match ID 7381903769 created successfully.\n",
      "DataFrame for Match ID 7381789226 created successfully.\n",
      "DataFrame for Match ID 7380503658 created successfully.\n",
      "DataFrame for Match ID 7380456695 created successfully.\n",
      "DataFrame for Match ID 7380454553 created successfully.\n",
      "DataFrame for Match ID 7380419098 created successfully.\n",
      "DataFrame for Match ID 7380411342 created successfully.\n",
      "DataFrame for Match ID 7380407733 created successfully.\n",
      "DataFrame for Match ID 7380401748 created successfully.\n",
      "DataFrame for Match ID 7380403482 created successfully.\n",
      "DataFrame for Match ID 7380377685 created successfully.\n",
      "DataFrame for Match ID 7380359415 created successfully.\n",
      "DataFrame for Match ID 7380353553 created successfully.\n",
      "DataFrame for Match ID 7380345561 created successfully.\n",
      "DataFrame for Match ID 7380339950 created successfully.\n",
      "DataFrame for Match ID 7380311197 created successfully.\n",
      "DataFrame for Match ID 7380292188 created successfully.\n",
      "DataFrame for Match ID 7380278774 created successfully.\n",
      "DataFrame for Match ID 7380279835 created successfully.\n",
      "DataFrame for Match ID 7380271573 created successfully.\n",
      "DataFrame for Match ID 7380204297 created successfully.\n",
      "DataFrame for Match ID 7380199457 created successfully.\n",
      "DataFrame for Match ID 7380191534 created successfully.\n",
      "DataFrame for Match ID 7380195136 created successfully.\n",
      "DataFrame for Match ID 7380184614 created successfully.\n",
      "DataFrame for Match ID 7380112773 created successfully.\n",
      "DataFrame for Match ID 7380101603 created successfully.\n",
      "DataFrame for Match ID 7380091953 created successfully.\n",
      "DataFrame for Match ID 7380089990 created successfully.\n",
      "DataFrame for Match ID 7379995208 created successfully.\n",
      "DataFrame for Match ID 7379995137 created successfully.\n",
      "DataFrame for Match ID 7379995224 created successfully.\n",
      "DataFrame for Match ID 7379995166 created successfully.\n",
      "DataFrame for Match ID 7379995104 created successfully.\n",
      "DataFrame for Match ID 7379050474 created successfully.\n",
      "DataFrame for Match ID 7379021143 created successfully.\n",
      "DataFrame for Match ID 7379016573 created successfully.\n",
      "DataFrame for Match ID 7379009384 created successfully.\n",
      "DataFrame for Match ID 7379001957 created successfully.\n",
      "DataFrame for Match ID 7378995240 created successfully.\n",
      "DataFrame for Match ID 7378986342 created successfully.\n",
      "DataFrame for Match ID 7378981947 created successfully.\n",
      "DataFrame for Match ID 7378973550 created successfully.\n",
      "DataFrame for Match ID 7378970387 created successfully.\n",
      "DataFrame for Match ID 7378962241 created successfully.\n",
      "DataFrame for Match ID 7378947046 created successfully.\n",
      "DataFrame for Match ID 7378947083 created successfully.\n",
      "DataFrame for Match ID 7378939289 created successfully.\n",
      "DataFrame for Match ID 7378932814 created successfully.\n",
      "DataFrame for Match ID 7378930433 created successfully.\n",
      "DataFrame for Match ID 7378917656 created successfully.\n",
      "DataFrame for Match ID 7378912368 created successfully.\n",
      "DataFrame for Match ID 7378905651 created successfully.\n",
      "DataFrame for Match ID 7378903471 created successfully.\n",
      "DataFrame for Match ID 7378901250 created successfully.\n",
      "DataFrame for Match ID 7378884672 created successfully.\n",
      "DataFrame for Match ID 7378880402 created successfully.\n",
      "DataFrame for Match ID 7378874061 created successfully.\n",
      "DataFrame for Match ID 7378876465 created successfully.\n",
      "DataFrame for Match ID 7378853458 created successfully.\n",
      "Failed to retrieve data for Match ID 7378851814. Status Code: 500\n",
      "DataFrame for Match ID 7378829327 created successfully.\n",
      "DataFrame for Match ID 7378828888 created successfully.\n",
      "DataFrame for Match ID 7378824942 created successfully.\n",
      "DataFrame for Match ID 7378805797 created successfully.\n",
      "DataFrame for Match ID 7378785114 created successfully.\n",
      "DataFrame for Match ID 7378776322 created successfully.\n",
      "DataFrame for Match ID 7378772656 created successfully.\n",
      "DataFrame for Match ID 7378760136 created successfully.\n",
      "DataFrame for Match ID 7378751246 created successfully.\n",
      "DataFrame for Match ID 7378707167 created successfully.\n",
      "DataFrame for Match ID 7378710682 created successfully.\n",
      "DataFrame for Match ID 7378693411 created successfully.\n",
      "DataFrame for Match ID 7378693331 created successfully.\n",
      "DataFrame for Match ID 7378676993 created successfully.\n",
      "DataFrame for Match ID 7378630668 created successfully.\n",
      "DataFrame for Match ID 7378617754 created successfully.\n",
      "DataFrame for Match ID 7378605383 created successfully.\n",
      "DataFrame for Match ID 7378609139 created successfully.\n",
      "DataFrame for Match ID 7378603271 created successfully.\n",
      "DataFrame for Match ID 7378530488 created successfully.\n",
      "DataFrame for Match ID 7378530439 created successfully.\n",
      "DataFrame for Match ID 7378530406 created successfully.\n",
      "DataFrame for Match ID 7378530507 created successfully.\n",
      "DataFrame for Match ID 7378530387 created successfully.\n"
     ]
    }
   ],
   "source": [
    "#using the fuction created above, creating a dictionary of dataframes where each dataframe is the match data for each of the 151 games of the international 2023 tourney\n",
    "international2023matches = getMatchDetails(7406531302,7406482053,7406424070,7406249246,7406129687,7404938247,7404889653,7404828649,7404763579,7404713057,7404668056,7404577536,7404488494,7404381764,7404249421,\n",
    "                                           7403117150,7403057517,7402993316,7402943509,7402900929,7402800418,7402717428,7402626373,7402531427,7395420827,7395366323,7395312177,7395260041,7395201088,7395136494,\n",
    "                                           7395048377,7394936686,7394832000,7393504676,7393464447,7393394521,7393331922,7393258586,7393133836,7393035065,7392908789,7391726311,7391681832,7391636050,7391585748,\n",
    "                                           7391525205,7391463411,7391367511,7391247517,7391149823,7384188114,7384142800,7384108524,7384067209,7384021535,7383951137,7383855952,7383785611,7383689600,7382383379,\n",
    "                                           7382316646,7382271393,7382234341,7382176499,7382126763,7382010427,7381903769,7381789226,7380503658,7380456695,7380454553,7380419098,7380411342,7380407733,7380401748,\n",
    "                                           7380403482,7380377685,7380359415,7380353553,7380345561,7380339950,7380311197,7380292188,7380278774,7380279835,7380271573,7380204297,7380199457,7380191534,7380195136,\n",
    "                                           7380184614,7380112773,7380101603,7380091953,7380089990,7379995208,7379995137,7379995224,7379995166,7379995104,7379050474,7379021143,7379016573,7379009384,7379001957,\n",
    "                                           7378995240,7378986342,7378981947,7378973550,7378970387,7378962241,7378947046,7378947083,7378939289,7378932814,7378930433,7378917656,7378912368,7378905651,7378903471,\n",
    "                                           7378901250,7378884672,7378880402,7378874061,7378876465,7378853458,7378851814,7378829327,7378828888,7378824942,7378805797,7378785114,7378776322,7378772656,7378760136,\n",
    "                                           7378751246,7378707167,7378710682,7378693411,7378693331,7378676993,7378630668,7378617754,7378605383,7378609139,7378603271,7378530488,7378530439,7378530406,7378530507,\n",
    "                                           7378530387\n",
    ")"
   ]
  },
  {
   "cell_type": "code",
   "execution_count": 5,
   "metadata": {},
   "outputs": [],
   "source": [
    "#defining a function that takes the dictionary of dataframes created above and makes a new singular dataframe containing all of the drafting phase data for all 151 matches\n",
    "def mergedrafttimings(dataframes_dict):\n",
    "    #creating an empty master dataframe\n",
    "    master = pd.DataFrame()\n",
    "\n",
    "    #looping through each dataframe in the dictionary\n",
    "    for df_name, dataframe in dataframes_dict.items():\n",
    "        #normalizing the data in the draft timings column\n",
    "        drafttimings = pd.json_normalize(dataframe['draft_timings'])\n",
    "        #creating a new dataframe of the normalized data\n",
    "        drafttimingsmerged =pd.DataFrame(drafttimings.values.squeeze().tolist())\n",
    "        #adding a 'match' column containing the match id\n",
    "        drafttimingsmerged['match'] = df_name\n",
    "        drafttimingsmerged['winning_team'] = dataframe['radiant_win']\n",
    "        \n",
    "        #concat the created dataframe to the master dataframe\n",
    "        master = pd.concat([master, drafttimingsmerged], ignore_index=True)\n",
    "    #returns the master dataframe\n",
    "    return master\n"
   ]
  },
  {
   "cell_type": "code",
   "execution_count": 6,
   "metadata": {},
   "outputs": [],
   "source": [
    "#executing the function created above and store the dataframe as draftdata\n",
    "draftdata = mergedrafttimings(international2023matches)"
   ]
  },
  {
   "cell_type": "code",
   "execution_count": 7,
   "metadata": {},
   "outputs": [],
   "source": [
    "#using the hero_data dataframe created earlier we are adding the heros actual name to our dataframe instead of having a numeric id\n",
    "#merging the draft data frame with the hero_data frame using the id and hero_id as keys\n",
    "draftdata = pd.merge(draftdata, hero_data[['id', 'localized_name']], left_on='hero_id', right_on='id', how='left')\n",
    "#now that the hero name is added to the draftdata data frame we are dropping the hero_id and Id columns\n",
    "draftdata.drop(['hero_id', 'id'], axis=1, inplace=True)\n",
    "\n",
    "#renaming columns\n",
    "draftdata.rename(columns={'localized_name': 'hero'}, inplace=True)\n",
    "draftdata.rename(columns={'pick': 'action'}, inplace=True)\n",
    "\n",
    "#remapping true and false values to say pick or ban\n",
    "draftdata['action'] = draftdata['action'].map({True: 'pick', False: 'ban'})\n",
    "#remapping team ids to say dire or radiant\n",
    "draftdata['active_team'] = draftdata['active_team'].map({3: 'dire', 2: 'radiant'})\n",
    "#remapping winning team field to say dire or radiant\n",
    "draftdata['winning_team'] = draftdata['winning_team'].map({True: 'radiant', False: 'dire'})\n",
    "\n",
    "#filling in all NaN values of winning team columns with respective true or false values\n",
    "draftdata['winning_team'] = draftdata.groupby('match')['winning_team'].transform(lambda x: x.ffill().bfill())\n",
    "\n",
    "#adding win column to show if the pick/ban resulted in a win or loss\n",
    "draftdata['win'] = draftdata['winning_team'] == draftdata['active_team']  \n",
    "\n",
    "#reordering columns\n",
    "column_order = ['match','winning_team','order','action','active_team','hero','player_slot','extra_time','total_time_taken','win']\n",
    "draftdata = draftdata[column_order]\n",
    "\n"
   ]
  },
  {
   "cell_type": "code",
   "execution_count": 8,
   "metadata": {},
   "outputs": [
    {
     "data": {
      "text/html": [
       "<div>\n",
       "<style scoped>\n",
       "    .dataframe tbody tr th:only-of-type {\n",
       "        vertical-align: middle;\n",
       "    }\n",
       "\n",
       "    .dataframe tbody tr th {\n",
       "        vertical-align: top;\n",
       "    }\n",
       "\n",
       "    .dataframe thead th {\n",
       "        text-align: right;\n",
       "    }\n",
       "</style>\n",
       "<table border=\"1\" class=\"dataframe\">\n",
       "  <thead>\n",
       "    <tr style=\"text-align: right;\">\n",
       "      <th></th>\n",
       "      <th>match</th>\n",
       "      <th>winning_team</th>\n",
       "      <th>order</th>\n",
       "      <th>action</th>\n",
       "      <th>active_team</th>\n",
       "      <th>hero</th>\n",
       "      <th>player_slot</th>\n",
       "      <th>extra_time</th>\n",
       "      <th>total_time_taken</th>\n",
       "      <th>win</th>\n",
       "    </tr>\n",
       "  </thead>\n",
       "  <tbody>\n",
       "    <tr>\n",
       "      <th>0</th>\n",
       "      <td>7406531302</td>\n",
       "      <td>dire</td>\n",
       "      <td>1</td>\n",
       "      <td>ban</td>\n",
       "      <td>dire</td>\n",
       "      <td>Chen</td>\n",
       "      <td>NaN</td>\n",
       "      <td>130</td>\n",
       "      <td>0</td>\n",
       "      <td>True</td>\n",
       "    </tr>\n",
       "    <tr>\n",
       "      <th>1</th>\n",
       "      <td>7406531302</td>\n",
       "      <td>dire</td>\n",
       "      <td>2</td>\n",
       "      <td>ban</td>\n",
       "      <td>radiant</td>\n",
       "      <td>Weaver</td>\n",
       "      <td>NaN</td>\n",
       "      <td>130</td>\n",
       "      <td>11</td>\n",
       "      <td>False</td>\n",
       "    </tr>\n",
       "    <tr>\n",
       "      <th>2</th>\n",
       "      <td>7406531302</td>\n",
       "      <td>dire</td>\n",
       "      <td>3</td>\n",
       "      <td>ban</td>\n",
       "      <td>radiant</td>\n",
       "      <td>Bristleback</td>\n",
       "      <td>NaN</td>\n",
       "      <td>130</td>\n",
       "      <td>10</td>\n",
       "      <td>False</td>\n",
       "    </tr>\n",
       "    <tr>\n",
       "      <th>3</th>\n",
       "      <td>7406531302</td>\n",
       "      <td>dire</td>\n",
       "      <td>4</td>\n",
       "      <td>ban</td>\n",
       "      <td>dire</td>\n",
       "      <td>Necrophos</td>\n",
       "      <td>NaN</td>\n",
       "      <td>130</td>\n",
       "      <td>45</td>\n",
       "      <td>True</td>\n",
       "    </tr>\n",
       "    <tr>\n",
       "      <th>4</th>\n",
       "      <td>7406531302</td>\n",
       "      <td>dire</td>\n",
       "      <td>5</td>\n",
       "      <td>ban</td>\n",
       "      <td>radiant</td>\n",
       "      <td>Magnus</td>\n",
       "      <td>NaN</td>\n",
       "      <td>130</td>\n",
       "      <td>17</td>\n",
       "      <td>False</td>\n",
       "    </tr>\n",
       "    <tr>\n",
       "      <th>...</th>\n",
       "      <td>...</td>\n",
       "      <td>...</td>\n",
       "      <td>...</td>\n",
       "      <td>...</td>\n",
       "      <td>...</td>\n",
       "      <td>...</td>\n",
       "      <td>...</td>\n",
       "      <td>...</td>\n",
       "      <td>...</td>\n",
       "      <td>...</td>\n",
       "    </tr>\n",
       "    <tr>\n",
       "      <th>3581</th>\n",
       "      <td>7378530387</td>\n",
       "      <td>radiant</td>\n",
       "      <td>20</td>\n",
       "      <td>ban</td>\n",
       "      <td>radiant</td>\n",
       "      <td>Invoker</td>\n",
       "      <td>NaN</td>\n",
       "      <td>80</td>\n",
       "      <td>29</td>\n",
       "      <td>True</td>\n",
       "    </tr>\n",
       "    <tr>\n",
       "      <th>3582</th>\n",
       "      <td>7378530387</td>\n",
       "      <td>radiant</td>\n",
       "      <td>21</td>\n",
       "      <td>ban</td>\n",
       "      <td>radiant</td>\n",
       "      <td>Monkey King</td>\n",
       "      <td>NaN</td>\n",
       "      <td>28</td>\n",
       "      <td>93</td>\n",
       "      <td>True</td>\n",
       "    </tr>\n",
       "    <tr>\n",
       "      <th>3583</th>\n",
       "      <td>7378530387</td>\n",
       "      <td>radiant</td>\n",
       "      <td>22</td>\n",
       "      <td>ban</td>\n",
       "      <td>dire</td>\n",
       "      <td>Tidehunter</td>\n",
       "      <td>NaN</td>\n",
       "      <td>15</td>\n",
       "      <td>42</td>\n",
       "      <td>False</td>\n",
       "    </tr>\n",
       "    <tr>\n",
       "      <th>3584</th>\n",
       "      <td>7378530387</td>\n",
       "      <td>radiant</td>\n",
       "      <td>23</td>\n",
       "      <td>pick</td>\n",
       "      <td>dire</td>\n",
       "      <td>Zeus</td>\n",
       "      <td>5.0</td>\n",
       "      <td>18</td>\n",
       "      <td>3</td>\n",
       "      <td>False</td>\n",
       "    </tr>\n",
       "    <tr>\n",
       "      <th>3585</th>\n",
       "      <td>7378530387</td>\n",
       "      <td>radiant</td>\n",
       "      <td>24</td>\n",
       "      <td>pick</td>\n",
       "      <td>radiant</td>\n",
       "      <td>Dawnbreaker</td>\n",
       "      <td>3.0</td>\n",
       "      <td>6</td>\n",
       "      <td>42</td>\n",
       "      <td>True</td>\n",
       "    </tr>\n",
       "  </tbody>\n",
       "</table>\n",
       "<p>3586 rows × 10 columns</p>\n",
       "</div>"
      ],
      "text/plain": [
       "           match winning_team  order action active_team         hero  \\\n",
       "0     7406531302         dire      1    ban        dire         Chen   \n",
       "1     7406531302         dire      2    ban     radiant       Weaver   \n",
       "2     7406531302         dire      3    ban     radiant  Bristleback   \n",
       "3     7406531302         dire      4    ban        dire    Necrophos   \n",
       "4     7406531302         dire      5    ban     radiant       Magnus   \n",
       "...          ...          ...    ...    ...         ...          ...   \n",
       "3581  7378530387      radiant     20    ban     radiant      Invoker   \n",
       "3582  7378530387      radiant     21    ban     radiant  Monkey King   \n",
       "3583  7378530387      radiant     22    ban        dire   Tidehunter   \n",
       "3584  7378530387      radiant     23   pick        dire         Zeus   \n",
       "3585  7378530387      radiant     24   pick     radiant  Dawnbreaker   \n",
       "\n",
       "      player_slot  extra_time  total_time_taken    win  \n",
       "0             NaN         130                 0   True  \n",
       "1             NaN         130                11  False  \n",
       "2             NaN         130                10  False  \n",
       "3             NaN         130                45   True  \n",
       "4             NaN         130                17  False  \n",
       "...           ...         ...               ...    ...  \n",
       "3581          NaN          80                29   True  \n",
       "3582          NaN          28                93   True  \n",
       "3583          NaN          15                42  False  \n",
       "3584          5.0          18                 3  False  \n",
       "3585          3.0           6                42   True  \n",
       "\n",
       "[3586 rows x 10 columns]"
      ]
     },
     "execution_count": 8,
     "metadata": {},
     "output_type": "execute_result"
    }
   ],
   "source": [
    "draftdata"
   ]
  },
  {
   "cell_type": "code",
   "execution_count": 9,
   "metadata": {},
   "outputs": [],
   "source": [
    "#creating a list of all heroes\n",
    "heroes_x = hero_data['localized_name'].to_list()\n",
    "\n",
    "#creating a list of all pick values\n",
    "picks_y = []\n",
    "for hero in heroes_x:\n",
    "    picks = draftdata[(draftdata['hero'] == hero) & (draftdata['action'] == 'pick')]\n",
    "    picks_y.append(len(picks))\n",
    "\n",
    "#Creating a list of number of wins if hero is picked\n",
    "wins_if_picked_y = []\n",
    "for hero in heroes_x:\n",
    "    wins = draftdata[(draftdata['hero'] == hero) & (draftdata['action'] == 'pick')& (draftdata['win'] == True)]\n",
    "    wins_if_picked_y.append(len(wins))\n",
    "\n",
    "#creating a list of all ban values\n",
    "bans_y = []\n",
    "for hero in heroes_x:\n",
    "    bans = draftdata[(draftdata['hero'] == hero) & (draftdata['action'] == 'ban')]\n",
    "    bans_y.append(len(bans))\n",
    "\n",
    "#Creating a list of number of wins if hero is banned\n",
    "wins_if_banned_y = []\n",
    "for hero in heroes_x:\n",
    "    wins = draftdata[(draftdata['hero'] == hero) & (draftdata['action'] == 'ban')& (draftdata['win'] == True)]\n",
    "    wins_if_banned_y.append(len(wins))\n"
   ]
  },
  {
   "cell_type": "code",
   "execution_count": 10,
   "metadata": {},
   "outputs": [
    {
     "data": {
      "text/html": [
       "<div>\n",
       "<style scoped>\n",
       "    .dataframe tbody tr th:only-of-type {\n",
       "        vertical-align: middle;\n",
       "    }\n",
       "\n",
       "    .dataframe tbody tr th {\n",
       "        vertical-align: top;\n",
       "    }\n",
       "\n",
       "    .dataframe thead th {\n",
       "        text-align: right;\n",
       "    }\n",
       "</style>\n",
       "<table border=\"1\" class=\"dataframe\">\n",
       "  <thead>\n",
       "    <tr style=\"text-align: right;\">\n",
       "      <th></th>\n",
       "      <th>hero</th>\n",
       "      <th>Times Picked</th>\n",
       "      <th>Wins if Picked</th>\n",
       "      <th>Times Banned</th>\n",
       "      <th>Wins if Banned</th>\n",
       "    </tr>\n",
       "  </thead>\n",
       "  <tbody>\n",
       "    <tr>\n",
       "      <th>0</th>\n",
       "      <td>Anti-Mage</td>\n",
       "      <td>0</td>\n",
       "      <td>0</td>\n",
       "      <td>2</td>\n",
       "      <td>0</td>\n",
       "    </tr>\n",
       "    <tr>\n",
       "      <th>1</th>\n",
       "      <td>Axe</td>\n",
       "      <td>5</td>\n",
       "      <td>3</td>\n",
       "      <td>5</td>\n",
       "      <td>4</td>\n",
       "    </tr>\n",
       "    <tr>\n",
       "      <th>2</th>\n",
       "      <td>Bane</td>\n",
       "      <td>2</td>\n",
       "      <td>2</td>\n",
       "      <td>3</td>\n",
       "      <td>2</td>\n",
       "    </tr>\n",
       "    <tr>\n",
       "      <th>3</th>\n",
       "      <td>Bloodseeker</td>\n",
       "      <td>3</td>\n",
       "      <td>1</td>\n",
       "      <td>7</td>\n",
       "      <td>3</td>\n",
       "    </tr>\n",
       "    <tr>\n",
       "      <th>4</th>\n",
       "      <td>Crystal Maiden</td>\n",
       "      <td>3</td>\n",
       "      <td>2</td>\n",
       "      <td>0</td>\n",
       "      <td>0</td>\n",
       "    </tr>\n",
       "    <tr>\n",
       "      <th>...</th>\n",
       "      <td>...</td>\n",
       "      <td>...</td>\n",
       "      <td>...</td>\n",
       "      <td>...</td>\n",
       "      <td>...</td>\n",
       "    </tr>\n",
       "    <tr>\n",
       "      <th>119</th>\n",
       "      <td>Mars</td>\n",
       "      <td>0</td>\n",
       "      <td>0</td>\n",
       "      <td>9</td>\n",
       "      <td>4</td>\n",
       "    </tr>\n",
       "    <tr>\n",
       "      <th>120</th>\n",
       "      <td>Dawnbreaker</td>\n",
       "      <td>30</td>\n",
       "      <td>16</td>\n",
       "      <td>34</td>\n",
       "      <td>22</td>\n",
       "    </tr>\n",
       "    <tr>\n",
       "      <th>121</th>\n",
       "      <td>Marci</td>\n",
       "      <td>2</td>\n",
       "      <td>0</td>\n",
       "      <td>0</td>\n",
       "      <td>0</td>\n",
       "    </tr>\n",
       "    <tr>\n",
       "      <th>122</th>\n",
       "      <td>Primal Beast</td>\n",
       "      <td>28</td>\n",
       "      <td>17</td>\n",
       "      <td>90</td>\n",
       "      <td>47</td>\n",
       "    </tr>\n",
       "    <tr>\n",
       "      <th>123</th>\n",
       "      <td>Muerta</td>\n",
       "      <td>56</td>\n",
       "      <td>27</td>\n",
       "      <td>55</td>\n",
       "      <td>27</td>\n",
       "    </tr>\n",
       "  </tbody>\n",
       "</table>\n",
       "<p>124 rows × 5 columns</p>\n",
       "</div>"
      ],
      "text/plain": [
       "               hero  Times Picked  Wins if Picked  Times Banned  \\\n",
       "0         Anti-Mage             0               0             2   \n",
       "1               Axe             5               3             5   \n",
       "2              Bane             2               2             3   \n",
       "3       Bloodseeker             3               1             7   \n",
       "4    Crystal Maiden             3               2             0   \n",
       "..              ...           ...             ...           ...   \n",
       "119            Mars             0               0             9   \n",
       "120     Dawnbreaker            30              16            34   \n",
       "121           Marci             2               0             0   \n",
       "122    Primal Beast            28              17            90   \n",
       "123          Muerta            56              27            55   \n",
       "\n",
       "     Wins if Banned  \n",
       "0                 0  \n",
       "1                 4  \n",
       "2                 2  \n",
       "3                 3  \n",
       "4                 0  \n",
       "..              ...  \n",
       "119               4  \n",
       "120              22  \n",
       "121               0  \n",
       "122              47  \n",
       "123              27  \n",
       "\n",
       "[124 rows x 5 columns]"
      ]
     },
     "execution_count": 10,
     "metadata": {},
     "output_type": "execute_result"
    }
   ],
   "source": [
    "data = {'hero': heroes_x, 'Times Picked': picks_y, 'Wins if Picked': wins_if_picked_y, 'Times Banned': bans_y, 'Wins if Banned': wins_if_banned_y}\n",
    "cleaned_draftdata = pd.DataFrame(data)\n",
    "cleaned_draftdata"
   ]
  },
  {
   "cell_type": "code",
   "execution_count": 11,
   "metadata": {},
   "outputs": [],
   "source": [
    "#writing draftdata data frame to excel\n",
    "cleaned_draftdata.to_excel('draft_data.xlsx', index=False)"
   ]
  },
  {
   "cell_type": "code",
   "execution_count": 12,
   "metadata": {},
   "outputs": [],
   "source": [
    "#sort the data from largest to smallest\n",
    "sorted_pick_indices = sorted(range(len(picks_y)), key=lambda i: picks_y[i], reverse=True)\n",
    "heroes_x = [heroes_x[i] for i in sorted_pick_indices]\n",
    "picks_y = [picks_y[i] for i in sorted_pick_indices]\n",
    "wins_if_picked_y = [wins_if_picked_y[i] for i in sorted_pick_indices]\n"
   ]
  },
  {
   "cell_type": "code",
   "execution_count": 13,
   "metadata": {},
   "outputs": [
    {
     "data": {
      "application/vnd.plotly.v1+json": {
       "config": {
        "plotlyServerURL": "https://plot.ly"
       },
       "data": [
        {
         "name": "Times Picked",
         "type": "bar",
         "x": [
          "Muerta",
          "Grimstroke",
          "Dark Willow",
          "Kunkka",
          "Phoenix",
          "Chaos Knight",
          "Bristleback",
          "Pangolier",
          "Treant Protector",
          "Vengeful Spirit",
          "Spirit Breaker",
          "Earth Spirit",
          "Invoker",
          "Tusk",
          "Shadow Demon",
          "Centaur Warrunner",
          "Dawnbreaker",
          "Ancient Apparition",
          "Luna",
          "Primal Beast",
          "Earthshaker",
          "Nature's Prophet",
          "Skywrath Mage",
          "Sven",
          "Brewmaster",
          "Puck",
          "Weaver",
          "Spectre",
          "Enchantress",
          "Tidehunter",
          "Pugna",
          "Faceless Void",
          "Wraith King",
          "Dazzle",
          "Naga Siren",
          "Terrorblade",
          "Templar Assassin",
          "Warlock",
          "Keeper of the Light",
          "Morphling",
          "Clockwerk",
          "Phantom Assassin",
          "Doom",
          "Lone Druid",
          "Tiny",
          "Elder Titan",
          "Necrophos",
          "Lifestealer",
          "Batrider",
          "Magnus",
          "Beastmaster",
          "Chen",
          "Undying",
          "Rubick",
          "Zeus",
          "Dark Seer",
          "Night Stalker",
          "Alchemist",
          "Storm Spirit",
          "Lina",
          "Gyrocopter",
          "Ogre Magi",
          "Monkey King",
          "Hoodwink",
          "Axe",
          "Pudge",
          "Riki",
          "Viper",
          "Silencer",
          "Outworld Destroyer",
          "Troll Warlord",
          "Techies",
          "Razor",
          "Windranger",
          "Queen of Pain",
          "Omniknight",
          "Jakiro",
          "Slark",
          "Medusa",
          "Oracle",
          "Snapfire",
          "Bloodseeker",
          "Crystal Maiden",
          "Phantom Lancer",
          "Witch Doctor",
          "Enigma",
          "Death Prophet",
          "Clinkz",
          "Disruptor",
          "Visage",
          "Legion Commander",
          "Bane",
          "Mirana",
          "Shadow Fiend",
          "Sand King",
          "Sniper",
          "Io",
          "Underlord",
          "Arc Warden",
          "Void Spirit",
          "Marci",
          "Juggernaut",
          "Lich",
          "Tinker",
          "Venomancer",
          "Dragon Knight",
          "Leshrac",
          "Huskar",
          "Broodmother",
          "Bounty Hunter",
          "Lycan",
          "Nyx Assassin",
          "Ember Spirit",
          "Anti-Mage",
          "Drow Ranger",
          "Lion",
          "Shadow Shaman",
          "Slardar",
          "Ursa",
          "Meepo",
          "Timbersaw",
          "Abaddon",
          "Winter Wyvern",
          "Mars"
         ],
         "y": [
          56,
          48,
          45,
          42,
          42,
          40,
          40,
          39,
          38,
          37,
          37,
          36,
          34,
          34,
          33,
          30,
          30,
          29,
          28,
          28,
          26,
          26,
          26,
          25,
          25,
          24,
          23,
          23,
          22,
          21,
          20,
          19,
          19,
          18,
          18,
          18,
          17,
          14,
          14,
          13,
          13,
          12,
          12,
          12,
          11,
          11,
          10,
          10,
          9,
          9,
          8,
          8,
          8,
          8,
          7,
          7,
          7,
          7,
          6,
          6,
          6,
          6,
          6,
          6,
          5,
          5,
          5,
          5,
          5,
          5,
          5,
          5,
          4,
          4,
          4,
          4,
          4,
          4,
          4,
          4,
          4,
          3,
          3,
          3,
          3,
          3,
          3,
          3,
          3,
          3,
          3,
          2,
          2,
          2,
          2,
          2,
          2,
          2,
          2,
          2,
          2,
          1,
          1,
          1,
          1,
          1,
          1,
          1,
          1,
          1,
          1,
          1,
          1,
          0,
          0,
          0,
          0,
          0,
          0,
          0,
          0,
          0,
          0,
          0
         ]
        },
        {
         "name": "Wins If Picked",
         "type": "bar",
         "x": [
          "Muerta",
          "Grimstroke",
          "Dark Willow",
          "Kunkka",
          "Phoenix",
          "Chaos Knight",
          "Bristleback",
          "Pangolier",
          "Treant Protector",
          "Vengeful Spirit",
          "Spirit Breaker",
          "Earth Spirit",
          "Invoker",
          "Tusk",
          "Shadow Demon",
          "Centaur Warrunner",
          "Dawnbreaker",
          "Ancient Apparition",
          "Luna",
          "Primal Beast",
          "Earthshaker",
          "Nature's Prophet",
          "Skywrath Mage",
          "Sven",
          "Brewmaster",
          "Puck",
          "Weaver",
          "Spectre",
          "Enchantress",
          "Tidehunter",
          "Pugna",
          "Faceless Void",
          "Wraith King",
          "Dazzle",
          "Naga Siren",
          "Terrorblade",
          "Templar Assassin",
          "Warlock",
          "Keeper of the Light",
          "Morphling",
          "Clockwerk",
          "Phantom Assassin",
          "Doom",
          "Lone Druid",
          "Tiny",
          "Elder Titan",
          "Necrophos",
          "Lifestealer",
          "Batrider",
          "Magnus",
          "Beastmaster",
          "Chen",
          "Undying",
          "Rubick",
          "Zeus",
          "Dark Seer",
          "Night Stalker",
          "Alchemist",
          "Storm Spirit",
          "Lina",
          "Gyrocopter",
          "Ogre Magi",
          "Monkey King",
          "Hoodwink",
          "Axe",
          "Pudge",
          "Riki",
          "Viper",
          "Silencer",
          "Outworld Destroyer",
          "Troll Warlord",
          "Techies",
          "Razor",
          "Windranger",
          "Queen of Pain",
          "Omniknight",
          "Jakiro",
          "Slark",
          "Medusa",
          "Oracle",
          "Snapfire",
          "Bloodseeker",
          "Crystal Maiden",
          "Phantom Lancer",
          "Witch Doctor",
          "Enigma",
          "Death Prophet",
          "Clinkz",
          "Disruptor",
          "Visage",
          "Legion Commander",
          "Bane",
          "Mirana",
          "Shadow Fiend",
          "Sand King",
          "Sniper",
          "Io",
          "Underlord",
          "Arc Warden",
          "Void Spirit",
          "Marci",
          "Juggernaut",
          "Lich",
          "Tinker",
          "Venomancer",
          "Dragon Knight",
          "Leshrac",
          "Huskar",
          "Broodmother",
          "Bounty Hunter",
          "Lycan",
          "Nyx Assassin",
          "Ember Spirit",
          "Anti-Mage",
          "Drow Ranger",
          "Lion",
          "Shadow Shaman",
          "Slardar",
          "Ursa",
          "Meepo",
          "Timbersaw",
          "Abaddon",
          "Winter Wyvern",
          "Mars"
         ],
         "y": [
          27,
          23,
          25,
          20,
          21,
          27,
          19,
          15,
          20,
          16,
          21,
          16,
          18,
          17,
          9,
          11,
          16,
          18,
          15,
          17,
          12,
          12,
          14,
          9,
          13,
          14,
          14,
          14,
          13,
          8,
          13,
          9,
          11,
          13,
          11,
          9,
          5,
          4,
          4,
          5,
          6,
          5,
          5,
          6,
          7,
          5,
          7,
          5,
          3,
          5,
          3,
          6,
          6,
          3,
          2,
          4,
          6,
          4,
          6,
          2,
          0,
          4,
          4,
          2,
          3,
          2,
          3,
          1,
          3,
          2,
          2,
          3,
          2,
          3,
          1,
          2,
          1,
          1,
          1,
          3,
          1,
          1,
          2,
          2,
          2,
          1,
          0,
          2,
          1,
          0,
          0,
          2,
          0,
          0,
          1,
          2,
          2,
          2,
          0,
          1,
          0,
          0,
          0,
          0,
          0,
          1,
          1,
          1,
          1,
          1,
          1,
          1,
          0,
          0,
          0,
          0,
          0,
          0,
          0,
          0,
          0,
          0,
          0,
          0
         ]
        }
       ],
       "layout": {
        "barmode": "overlay",
        "template": {
         "data": {
          "bar": [
           {
            "error_x": {
             "color": "#f2f5fa"
            },
            "error_y": {
             "color": "#f2f5fa"
            },
            "marker": {
             "line": {
              "color": "rgb(17,17,17)",
              "width": 0.5
             },
             "pattern": {
              "fillmode": "overlay",
              "size": 10,
              "solidity": 0.2
             }
            },
            "type": "bar"
           }
          ],
          "barpolar": [
           {
            "marker": {
             "line": {
              "color": "rgb(17,17,17)",
              "width": 0.5
             },
             "pattern": {
              "fillmode": "overlay",
              "size": 10,
              "solidity": 0.2
             }
            },
            "type": "barpolar"
           }
          ],
          "carpet": [
           {
            "aaxis": {
             "endlinecolor": "#A2B1C6",
             "gridcolor": "#506784",
             "linecolor": "#506784",
             "minorgridcolor": "#506784",
             "startlinecolor": "#A2B1C6"
            },
            "baxis": {
             "endlinecolor": "#A2B1C6",
             "gridcolor": "#506784",
             "linecolor": "#506784",
             "minorgridcolor": "#506784",
             "startlinecolor": "#A2B1C6"
            },
            "type": "carpet"
           }
          ],
          "choropleth": [
           {
            "colorbar": {
             "outlinewidth": 0,
             "ticks": ""
            },
            "type": "choropleth"
           }
          ],
          "contour": [
           {
            "colorbar": {
             "outlinewidth": 0,
             "ticks": ""
            },
            "colorscale": [
             [
              0,
              "#0d0887"
             ],
             [
              0.1111111111111111,
              "#46039f"
             ],
             [
              0.2222222222222222,
              "#7201a8"
             ],
             [
              0.3333333333333333,
              "#9c179e"
             ],
             [
              0.4444444444444444,
              "#bd3786"
             ],
             [
              0.5555555555555556,
              "#d8576b"
             ],
             [
              0.6666666666666666,
              "#ed7953"
             ],
             [
              0.7777777777777778,
              "#fb9f3a"
             ],
             [
              0.8888888888888888,
              "#fdca26"
             ],
             [
              1,
              "#f0f921"
             ]
            ],
            "type": "contour"
           }
          ],
          "contourcarpet": [
           {
            "colorbar": {
             "outlinewidth": 0,
             "ticks": ""
            },
            "type": "contourcarpet"
           }
          ],
          "heatmap": [
           {
            "colorbar": {
             "outlinewidth": 0,
             "ticks": ""
            },
            "colorscale": [
             [
              0,
              "#0d0887"
             ],
             [
              0.1111111111111111,
              "#46039f"
             ],
             [
              0.2222222222222222,
              "#7201a8"
             ],
             [
              0.3333333333333333,
              "#9c179e"
             ],
             [
              0.4444444444444444,
              "#bd3786"
             ],
             [
              0.5555555555555556,
              "#d8576b"
             ],
             [
              0.6666666666666666,
              "#ed7953"
             ],
             [
              0.7777777777777778,
              "#fb9f3a"
             ],
             [
              0.8888888888888888,
              "#fdca26"
             ],
             [
              1,
              "#f0f921"
             ]
            ],
            "type": "heatmap"
           }
          ],
          "heatmapgl": [
           {
            "colorbar": {
             "outlinewidth": 0,
             "ticks": ""
            },
            "colorscale": [
             [
              0,
              "#0d0887"
             ],
             [
              0.1111111111111111,
              "#46039f"
             ],
             [
              0.2222222222222222,
              "#7201a8"
             ],
             [
              0.3333333333333333,
              "#9c179e"
             ],
             [
              0.4444444444444444,
              "#bd3786"
             ],
             [
              0.5555555555555556,
              "#d8576b"
             ],
             [
              0.6666666666666666,
              "#ed7953"
             ],
             [
              0.7777777777777778,
              "#fb9f3a"
             ],
             [
              0.8888888888888888,
              "#fdca26"
             ],
             [
              1,
              "#f0f921"
             ]
            ],
            "type": "heatmapgl"
           }
          ],
          "histogram": [
           {
            "marker": {
             "pattern": {
              "fillmode": "overlay",
              "size": 10,
              "solidity": 0.2
             }
            },
            "type": "histogram"
           }
          ],
          "histogram2d": [
           {
            "colorbar": {
             "outlinewidth": 0,
             "ticks": ""
            },
            "colorscale": [
             [
              0,
              "#0d0887"
             ],
             [
              0.1111111111111111,
              "#46039f"
             ],
             [
              0.2222222222222222,
              "#7201a8"
             ],
             [
              0.3333333333333333,
              "#9c179e"
             ],
             [
              0.4444444444444444,
              "#bd3786"
             ],
             [
              0.5555555555555556,
              "#d8576b"
             ],
             [
              0.6666666666666666,
              "#ed7953"
             ],
             [
              0.7777777777777778,
              "#fb9f3a"
             ],
             [
              0.8888888888888888,
              "#fdca26"
             ],
             [
              1,
              "#f0f921"
             ]
            ],
            "type": "histogram2d"
           }
          ],
          "histogram2dcontour": [
           {
            "colorbar": {
             "outlinewidth": 0,
             "ticks": ""
            },
            "colorscale": [
             [
              0,
              "#0d0887"
             ],
             [
              0.1111111111111111,
              "#46039f"
             ],
             [
              0.2222222222222222,
              "#7201a8"
             ],
             [
              0.3333333333333333,
              "#9c179e"
             ],
             [
              0.4444444444444444,
              "#bd3786"
             ],
             [
              0.5555555555555556,
              "#d8576b"
             ],
             [
              0.6666666666666666,
              "#ed7953"
             ],
             [
              0.7777777777777778,
              "#fb9f3a"
             ],
             [
              0.8888888888888888,
              "#fdca26"
             ],
             [
              1,
              "#f0f921"
             ]
            ],
            "type": "histogram2dcontour"
           }
          ],
          "mesh3d": [
           {
            "colorbar": {
             "outlinewidth": 0,
             "ticks": ""
            },
            "type": "mesh3d"
           }
          ],
          "parcoords": [
           {
            "line": {
             "colorbar": {
              "outlinewidth": 0,
              "ticks": ""
             }
            },
            "type": "parcoords"
           }
          ],
          "pie": [
           {
            "automargin": true,
            "type": "pie"
           }
          ],
          "scatter": [
           {
            "marker": {
             "line": {
              "color": "#283442"
             }
            },
            "type": "scatter"
           }
          ],
          "scatter3d": [
           {
            "line": {
             "colorbar": {
              "outlinewidth": 0,
              "ticks": ""
             }
            },
            "marker": {
             "colorbar": {
              "outlinewidth": 0,
              "ticks": ""
             }
            },
            "type": "scatter3d"
           }
          ],
          "scattercarpet": [
           {
            "marker": {
             "colorbar": {
              "outlinewidth": 0,
              "ticks": ""
             }
            },
            "type": "scattercarpet"
           }
          ],
          "scattergeo": [
           {
            "marker": {
             "colorbar": {
              "outlinewidth": 0,
              "ticks": ""
             }
            },
            "type": "scattergeo"
           }
          ],
          "scattergl": [
           {
            "marker": {
             "line": {
              "color": "#283442"
             }
            },
            "type": "scattergl"
           }
          ],
          "scattermapbox": [
           {
            "marker": {
             "colorbar": {
              "outlinewidth": 0,
              "ticks": ""
             }
            },
            "type": "scattermapbox"
           }
          ],
          "scatterpolar": [
           {
            "marker": {
             "colorbar": {
              "outlinewidth": 0,
              "ticks": ""
             }
            },
            "type": "scatterpolar"
           }
          ],
          "scatterpolargl": [
           {
            "marker": {
             "colorbar": {
              "outlinewidth": 0,
              "ticks": ""
             }
            },
            "type": "scatterpolargl"
           }
          ],
          "scatterternary": [
           {
            "marker": {
             "colorbar": {
              "outlinewidth": 0,
              "ticks": ""
             }
            },
            "type": "scatterternary"
           }
          ],
          "surface": [
           {
            "colorbar": {
             "outlinewidth": 0,
             "ticks": ""
            },
            "colorscale": [
             [
              0,
              "#0d0887"
             ],
             [
              0.1111111111111111,
              "#46039f"
             ],
             [
              0.2222222222222222,
              "#7201a8"
             ],
             [
              0.3333333333333333,
              "#9c179e"
             ],
             [
              0.4444444444444444,
              "#bd3786"
             ],
             [
              0.5555555555555556,
              "#d8576b"
             ],
             [
              0.6666666666666666,
              "#ed7953"
             ],
             [
              0.7777777777777778,
              "#fb9f3a"
             ],
             [
              0.8888888888888888,
              "#fdca26"
             ],
             [
              1,
              "#f0f921"
             ]
            ],
            "type": "surface"
           }
          ],
          "table": [
           {
            "cells": {
             "fill": {
              "color": "#506784"
             },
             "line": {
              "color": "rgb(17,17,17)"
             }
            },
            "header": {
             "fill": {
              "color": "#2a3f5f"
             },
             "line": {
              "color": "rgb(17,17,17)"
             }
            },
            "type": "table"
           }
          ]
         },
         "layout": {
          "annotationdefaults": {
           "arrowcolor": "#f2f5fa",
           "arrowhead": 0,
           "arrowwidth": 1
          },
          "autotypenumbers": "strict",
          "coloraxis": {
           "colorbar": {
            "outlinewidth": 0,
            "ticks": ""
           }
          },
          "colorscale": {
           "diverging": [
            [
             0,
             "#8e0152"
            ],
            [
             0.1,
             "#c51b7d"
            ],
            [
             0.2,
             "#de77ae"
            ],
            [
             0.3,
             "#f1b6da"
            ],
            [
             0.4,
             "#fde0ef"
            ],
            [
             0.5,
             "#f7f7f7"
            ],
            [
             0.6,
             "#e6f5d0"
            ],
            [
             0.7,
             "#b8e186"
            ],
            [
             0.8,
             "#7fbc41"
            ],
            [
             0.9,
             "#4d9221"
            ],
            [
             1,
             "#276419"
            ]
           ],
           "sequential": [
            [
             0,
             "#0d0887"
            ],
            [
             0.1111111111111111,
             "#46039f"
            ],
            [
             0.2222222222222222,
             "#7201a8"
            ],
            [
             0.3333333333333333,
             "#9c179e"
            ],
            [
             0.4444444444444444,
             "#bd3786"
            ],
            [
             0.5555555555555556,
             "#d8576b"
            ],
            [
             0.6666666666666666,
             "#ed7953"
            ],
            [
             0.7777777777777778,
             "#fb9f3a"
            ],
            [
             0.8888888888888888,
             "#fdca26"
            ],
            [
             1,
             "#f0f921"
            ]
           ],
           "sequentialminus": [
            [
             0,
             "#0d0887"
            ],
            [
             0.1111111111111111,
             "#46039f"
            ],
            [
             0.2222222222222222,
             "#7201a8"
            ],
            [
             0.3333333333333333,
             "#9c179e"
            ],
            [
             0.4444444444444444,
             "#bd3786"
            ],
            [
             0.5555555555555556,
             "#d8576b"
            ],
            [
             0.6666666666666666,
             "#ed7953"
            ],
            [
             0.7777777777777778,
             "#fb9f3a"
            ],
            [
             0.8888888888888888,
             "#fdca26"
            ],
            [
             1,
             "#f0f921"
            ]
           ]
          },
          "colorway": [
           "#636efa",
           "#EF553B",
           "#00cc96",
           "#ab63fa",
           "#FFA15A",
           "#19d3f3",
           "#FF6692",
           "#B6E880",
           "#FF97FF",
           "#FECB52"
          ],
          "font": {
           "color": "#f2f5fa"
          },
          "geo": {
           "bgcolor": "rgb(17,17,17)",
           "lakecolor": "rgb(17,17,17)",
           "landcolor": "rgb(17,17,17)",
           "showlakes": true,
           "showland": true,
           "subunitcolor": "#506784"
          },
          "hoverlabel": {
           "align": "left"
          },
          "hovermode": "closest",
          "mapbox": {
           "style": "dark"
          },
          "paper_bgcolor": "rgb(17,17,17)",
          "plot_bgcolor": "rgb(17,17,17)",
          "polar": {
           "angularaxis": {
            "gridcolor": "#506784",
            "linecolor": "#506784",
            "ticks": ""
           },
           "bgcolor": "rgb(17,17,17)",
           "radialaxis": {
            "gridcolor": "#506784",
            "linecolor": "#506784",
            "ticks": ""
           }
          },
          "scene": {
           "xaxis": {
            "backgroundcolor": "rgb(17,17,17)",
            "gridcolor": "#506784",
            "gridwidth": 2,
            "linecolor": "#506784",
            "showbackground": true,
            "ticks": "",
            "zerolinecolor": "#C8D4E3"
           },
           "yaxis": {
            "backgroundcolor": "rgb(17,17,17)",
            "gridcolor": "#506784",
            "gridwidth": 2,
            "linecolor": "#506784",
            "showbackground": true,
            "ticks": "",
            "zerolinecolor": "#C8D4E3"
           },
           "zaxis": {
            "backgroundcolor": "rgb(17,17,17)",
            "gridcolor": "#506784",
            "gridwidth": 2,
            "linecolor": "#506784",
            "showbackground": true,
            "ticks": "",
            "zerolinecolor": "#C8D4E3"
           }
          },
          "shapedefaults": {
           "line": {
            "color": "#f2f5fa"
           }
          },
          "sliderdefaults": {
           "bgcolor": "#C8D4E3",
           "bordercolor": "rgb(17,17,17)",
           "borderwidth": 1,
           "tickwidth": 0
          },
          "ternary": {
           "aaxis": {
            "gridcolor": "#506784",
            "linecolor": "#506784",
            "ticks": ""
           },
           "baxis": {
            "gridcolor": "#506784",
            "linecolor": "#506784",
            "ticks": ""
           },
           "bgcolor": "rgb(17,17,17)",
           "caxis": {
            "gridcolor": "#506784",
            "linecolor": "#506784",
            "ticks": ""
           }
          },
          "title": {
           "x": 0.05
          },
          "updatemenudefaults": {
           "bgcolor": "#506784",
           "borderwidth": 0
          },
          "xaxis": {
           "automargin": true,
           "gridcolor": "#283442",
           "linecolor": "#506784",
           "ticks": "",
           "title": {
            "standoff": 15
           },
           "zerolinecolor": "#283442",
           "zerolinewidth": 2
          },
          "yaxis": {
           "automargin": true,
           "gridcolor": "#283442",
           "linecolor": "#506784",
           "ticks": "",
           "title": {
            "standoff": 15
           },
           "zerolinecolor": "#283442",
           "zerolinewidth": 2
          }
         }
        },
        "title": {
         "text": "TI23 Hero Pick Rate and Wins"
        },
        "xaxis": {
         "title": {
          "text": "Hero"
         }
        },
        "yaxis": {
         "title": {
          "text": "Number of Games"
         }
        }
       }
      }
     },
     "metadata": {},
     "output_type": "display_data"
    }
   ],
   "source": [
    "#create bar graph\n",
    "picks_bargraph = go.Figure(data=[\n",
    "    go.Bar(name='Times Picked',x=heroes_x, y=picks_y),\n",
    "    go.Bar(name='Wins If Picked',x=heroes_x, y=wins_if_picked_y)\n",
    "    ])\n",
    "\n",
    "# Customize layout\n",
    "picks_bargraph.update_layout(title='TI23 Hero Pick Rate and Wins', xaxis_title='Hero', yaxis_title='Number of Games', template='plotly_dark', barmode='overlay')\n",
    "\n",
    "# Show the plot\n",
    "picks_bargraph.show()\n"
   ]
  },
  {
   "cell_type": "code",
   "execution_count": 14,
   "metadata": {},
   "outputs": [],
   "source": [
    "#sort the data from largest to smallest\n",
    "sorted_ban_indices = sorted(range(len(bans_y)), key=lambda i: bans_y[i], reverse=True)\n",
    "heroes_x = [heroes_x[i] for i in sorted_ban_indices]\n",
    "bans_y = [bans_y[i] for i in sorted_ban_indices]\n",
    "wins_if_banned_y = [wins_if_banned_y[i] for i in sorted_ban_indices]"
   ]
  },
  {
   "cell_type": "code",
   "execution_count": 15,
   "metadata": {},
   "outputs": [
    {
     "data": {
      "application/vnd.plotly.v1+json": {
       "config": {
        "plotlyServerURL": "https://plot.ly"
       },
       "data": [
        {
         "name": "Times Banned",
         "type": "bar",
         "x": [
          "Batrider",
          "Winter Wyvern",
          "Bloodseeker",
          "Skywrath Mage",
          "Razor",
          "Jakiro",
          "Outworld Destroyer",
          "Drow Ranger",
          "Broodmother",
          "Underlord",
          "Tiny",
          "Oracle",
          "Mars",
          "Chen",
          "Lion",
          "Morphling",
          "Sand King",
          "Slark",
          "Night Stalker",
          "Medusa",
          "Clinkz",
          "Invoker",
          "Dragon Knight",
          "Timbersaw",
          "Riki",
          "Rubick",
          "Naga Siren",
          "Arc Warden",
          "Templar Assassin",
          "Pudge",
          "Spectre",
          "Necrophos",
          "Ancient Apparition",
          "Viper",
          "Huskar",
          "Dawnbreaker",
          "Undying",
          "Phantom Lancer",
          "Bane",
          "Anti-Mage",
          "Sven",
          "Ember Spirit",
          "Primal Beast",
          "Clockwerk",
          "Lone Druid",
          "Ogre Magi",
          "Axe",
          "Void Spirit",
          "Bristleback",
          "Vengeful Spirit",
          "Meepo",
          "Hoodwink",
          "Techies",
          "Kunkka",
          "Warlock",
          "Elder Titan",
          "Queen of Pain",
          "Omniknight",
          "Shadow Fiend",
          "Shadow Demon",
          "Terrorblade",
          "Windranger",
          "Lich",
          "Grimstroke",
          "Luna",
          "Phantom Assassin",
          "Doom",
          "Storm Spirit",
          "Pugna",
          "Magnus",
          "Troll Warlord",
          "Crystal Maiden",
          "Enigma",
          "Dark Willow",
          "Nature's Prophet",
          "Enchantress",
          "Faceless Void",
          "Gyrocopter",
          "Disruptor",
          "Sniper",
          "Muerta",
          "Treant Protector",
          "Tusk",
          "Wraith King",
          "Lina",
          "Juggernaut",
          "Slardar",
          "Ursa",
          "Chaos Knight",
          "Centaur Warrunner",
          "Earthshaker",
          "Tidehunter",
          "Dazzle",
          "Alchemist",
          "Monkey King",
          "Silencer",
          "Legion Commander",
          "Venomancer",
          "Leshrac",
          "Bounty Hunter",
          "Shadow Shaman",
          "Phoenix",
          "Pangolier",
          "Spirit Breaker",
          "Earth Spirit",
          "Brewmaster",
          "Puck",
          "Weaver",
          "Keeper of the Light",
          "Lifestealer",
          "Beastmaster",
          "Zeus",
          "Dark Seer",
          "Snapfire",
          "Witch Doctor",
          "Death Prophet",
          "Visage",
          "Mirana",
          "Io",
          "Marci",
          "Tinker",
          "Lycan",
          "Nyx Assassin",
          "Abaddon"
         ],
         "y": [
          101,
          90,
          89,
          79,
          78,
          75,
          74,
          72,
          71,
          70,
          69,
          61,
          55,
          47,
          47,
          46,
          42,
          41,
          40,
          37,
          35,
          34,
          34,
          34,
          31,
          29,
          28,
          28,
          27,
          27,
          24,
          22,
          20,
          19,
          19,
          18,
          18,
          18,
          15,
          15,
          14,
          14,
          12,
          12,
          12,
          12,
          12,
          12,
          11,
          10,
          9,
          8,
          8,
          7,
          7,
          7,
          7,
          7,
          7,
          6,
          6,
          6,
          6,
          5,
          5,
          5,
          5,
          5,
          4,
          4,
          4,
          4,
          4,
          3,
          3,
          3,
          3,
          3,
          3,
          3,
          2,
          2,
          2,
          2,
          2,
          2,
          2,
          2,
          1,
          1,
          1,
          1,
          1,
          1,
          1,
          1,
          1,
          1,
          1,
          1,
          1,
          0,
          0,
          0,
          0,
          0,
          0,
          0,
          0,
          0,
          0,
          0,
          0,
          0,
          0,
          0,
          0,
          0,
          0,
          0,
          0,
          0,
          0,
          0
         ]
        },
        {
         "name": "Wins if Banned",
         "type": "bar",
         "x": [
          "Batrider",
          "Winter Wyvern",
          "Bloodseeker",
          "Skywrath Mage",
          "Razor",
          "Jakiro",
          "Outworld Destroyer",
          "Drow Ranger",
          "Broodmother",
          "Underlord",
          "Tiny",
          "Oracle",
          "Mars",
          "Chen",
          "Lion",
          "Morphling",
          "Sand King",
          "Slark",
          "Night Stalker",
          "Medusa",
          "Clinkz",
          "Invoker",
          "Dragon Knight",
          "Timbersaw",
          "Riki",
          "Rubick",
          "Naga Siren",
          "Arc Warden",
          "Templar Assassin",
          "Pudge",
          "Spectre",
          "Necrophos",
          "Ancient Apparition",
          "Viper",
          "Huskar",
          "Dawnbreaker",
          "Undying",
          "Phantom Lancer",
          "Bane",
          "Anti-Mage",
          "Sven",
          "Ember Spirit",
          "Primal Beast",
          "Clockwerk",
          "Lone Druid",
          "Ogre Magi",
          "Axe",
          "Void Spirit",
          "Bristleback",
          "Vengeful Spirit",
          "Meepo",
          "Hoodwink",
          "Techies",
          "Kunkka",
          "Warlock",
          "Elder Titan",
          "Queen of Pain",
          "Omniknight",
          "Shadow Fiend",
          "Shadow Demon",
          "Terrorblade",
          "Windranger",
          "Lich",
          "Grimstroke",
          "Luna",
          "Phantom Assassin",
          "Doom",
          "Storm Spirit",
          "Pugna",
          "Magnus",
          "Troll Warlord",
          "Crystal Maiden",
          "Enigma",
          "Dark Willow",
          "Nature's Prophet",
          "Enchantress",
          "Faceless Void",
          "Gyrocopter",
          "Disruptor",
          "Sniper",
          "Muerta",
          "Treant Protector",
          "Tusk",
          "Wraith King",
          "Lina",
          "Juggernaut",
          "Slardar",
          "Ursa",
          "Chaos Knight",
          "Centaur Warrunner",
          "Earthshaker",
          "Tidehunter",
          "Dazzle",
          "Alchemist",
          "Monkey King",
          "Silencer",
          "Legion Commander",
          "Venomancer",
          "Leshrac",
          "Bounty Hunter",
          "Shadow Shaman",
          "Phoenix",
          "Pangolier",
          "Spirit Breaker",
          "Earth Spirit",
          "Brewmaster",
          "Puck",
          "Weaver",
          "Keeper of the Light",
          "Lifestealer",
          "Beastmaster",
          "Zeus",
          "Dark Seer",
          "Snapfire",
          "Witch Doctor",
          "Death Prophet",
          "Visage",
          "Mirana",
          "Io",
          "Marci",
          "Tinker",
          "Lycan",
          "Nyx Assassin",
          "Abaddon"
         ],
         "y": [
          41,
          47,
          44,
          37,
          38,
          26,
          34,
          37,
          36,
          37,
          37,
          28,
          27,
          25,
          14,
          26,
          17,
          23,
          16,
          17,
          16,
          13,
          19,
          22,
          19,
          19,
          10,
          18,
          11,
          12,
          13,
          10,
          15,
          11,
          13,
          5,
          11,
          9,
          10,
          6,
          8,
          11,
          7,
          7,
          5,
          8,
          6,
          6,
          6,
          4,
          4,
          4,
          5,
          3,
          3,
          3,
          3,
          2,
          3,
          1,
          3,
          3,
          1,
          4,
          3,
          3,
          3,
          2,
          3,
          4,
          3,
          1,
          3,
          2,
          2,
          0,
          2,
          1,
          2,
          1,
          0,
          0,
          2,
          1,
          1,
          1,
          0,
          2,
          0,
          1,
          0,
          1,
          0,
          1,
          1,
          1,
          0,
          1,
          1,
          1,
          1,
          0,
          0,
          0,
          0,
          0,
          0,
          0,
          0,
          0,
          0,
          0,
          0,
          0,
          0,
          0,
          0,
          0,
          0,
          0,
          0,
          0,
          0,
          0
         ]
        }
       ],
       "layout": {
        "barmode": "overlay",
        "template": {
         "data": {
          "bar": [
           {
            "error_x": {
             "color": "#f2f5fa"
            },
            "error_y": {
             "color": "#f2f5fa"
            },
            "marker": {
             "line": {
              "color": "rgb(17,17,17)",
              "width": 0.5
             },
             "pattern": {
              "fillmode": "overlay",
              "size": 10,
              "solidity": 0.2
             }
            },
            "type": "bar"
           }
          ],
          "barpolar": [
           {
            "marker": {
             "line": {
              "color": "rgb(17,17,17)",
              "width": 0.5
             },
             "pattern": {
              "fillmode": "overlay",
              "size": 10,
              "solidity": 0.2
             }
            },
            "type": "barpolar"
           }
          ],
          "carpet": [
           {
            "aaxis": {
             "endlinecolor": "#A2B1C6",
             "gridcolor": "#506784",
             "linecolor": "#506784",
             "minorgridcolor": "#506784",
             "startlinecolor": "#A2B1C6"
            },
            "baxis": {
             "endlinecolor": "#A2B1C6",
             "gridcolor": "#506784",
             "linecolor": "#506784",
             "minorgridcolor": "#506784",
             "startlinecolor": "#A2B1C6"
            },
            "type": "carpet"
           }
          ],
          "choropleth": [
           {
            "colorbar": {
             "outlinewidth": 0,
             "ticks": ""
            },
            "type": "choropleth"
           }
          ],
          "contour": [
           {
            "colorbar": {
             "outlinewidth": 0,
             "ticks": ""
            },
            "colorscale": [
             [
              0,
              "#0d0887"
             ],
             [
              0.1111111111111111,
              "#46039f"
             ],
             [
              0.2222222222222222,
              "#7201a8"
             ],
             [
              0.3333333333333333,
              "#9c179e"
             ],
             [
              0.4444444444444444,
              "#bd3786"
             ],
             [
              0.5555555555555556,
              "#d8576b"
             ],
             [
              0.6666666666666666,
              "#ed7953"
             ],
             [
              0.7777777777777778,
              "#fb9f3a"
             ],
             [
              0.8888888888888888,
              "#fdca26"
             ],
             [
              1,
              "#f0f921"
             ]
            ],
            "type": "contour"
           }
          ],
          "contourcarpet": [
           {
            "colorbar": {
             "outlinewidth": 0,
             "ticks": ""
            },
            "type": "contourcarpet"
           }
          ],
          "heatmap": [
           {
            "colorbar": {
             "outlinewidth": 0,
             "ticks": ""
            },
            "colorscale": [
             [
              0,
              "#0d0887"
             ],
             [
              0.1111111111111111,
              "#46039f"
             ],
             [
              0.2222222222222222,
              "#7201a8"
             ],
             [
              0.3333333333333333,
              "#9c179e"
             ],
             [
              0.4444444444444444,
              "#bd3786"
             ],
             [
              0.5555555555555556,
              "#d8576b"
             ],
             [
              0.6666666666666666,
              "#ed7953"
             ],
             [
              0.7777777777777778,
              "#fb9f3a"
             ],
             [
              0.8888888888888888,
              "#fdca26"
             ],
             [
              1,
              "#f0f921"
             ]
            ],
            "type": "heatmap"
           }
          ],
          "heatmapgl": [
           {
            "colorbar": {
             "outlinewidth": 0,
             "ticks": ""
            },
            "colorscale": [
             [
              0,
              "#0d0887"
             ],
             [
              0.1111111111111111,
              "#46039f"
             ],
             [
              0.2222222222222222,
              "#7201a8"
             ],
             [
              0.3333333333333333,
              "#9c179e"
             ],
             [
              0.4444444444444444,
              "#bd3786"
             ],
             [
              0.5555555555555556,
              "#d8576b"
             ],
             [
              0.6666666666666666,
              "#ed7953"
             ],
             [
              0.7777777777777778,
              "#fb9f3a"
             ],
             [
              0.8888888888888888,
              "#fdca26"
             ],
             [
              1,
              "#f0f921"
             ]
            ],
            "type": "heatmapgl"
           }
          ],
          "histogram": [
           {
            "marker": {
             "pattern": {
              "fillmode": "overlay",
              "size": 10,
              "solidity": 0.2
             }
            },
            "type": "histogram"
           }
          ],
          "histogram2d": [
           {
            "colorbar": {
             "outlinewidth": 0,
             "ticks": ""
            },
            "colorscale": [
             [
              0,
              "#0d0887"
             ],
             [
              0.1111111111111111,
              "#46039f"
             ],
             [
              0.2222222222222222,
              "#7201a8"
             ],
             [
              0.3333333333333333,
              "#9c179e"
             ],
             [
              0.4444444444444444,
              "#bd3786"
             ],
             [
              0.5555555555555556,
              "#d8576b"
             ],
             [
              0.6666666666666666,
              "#ed7953"
             ],
             [
              0.7777777777777778,
              "#fb9f3a"
             ],
             [
              0.8888888888888888,
              "#fdca26"
             ],
             [
              1,
              "#f0f921"
             ]
            ],
            "type": "histogram2d"
           }
          ],
          "histogram2dcontour": [
           {
            "colorbar": {
             "outlinewidth": 0,
             "ticks": ""
            },
            "colorscale": [
             [
              0,
              "#0d0887"
             ],
             [
              0.1111111111111111,
              "#46039f"
             ],
             [
              0.2222222222222222,
              "#7201a8"
             ],
             [
              0.3333333333333333,
              "#9c179e"
             ],
             [
              0.4444444444444444,
              "#bd3786"
             ],
             [
              0.5555555555555556,
              "#d8576b"
             ],
             [
              0.6666666666666666,
              "#ed7953"
             ],
             [
              0.7777777777777778,
              "#fb9f3a"
             ],
             [
              0.8888888888888888,
              "#fdca26"
             ],
             [
              1,
              "#f0f921"
             ]
            ],
            "type": "histogram2dcontour"
           }
          ],
          "mesh3d": [
           {
            "colorbar": {
             "outlinewidth": 0,
             "ticks": ""
            },
            "type": "mesh3d"
           }
          ],
          "parcoords": [
           {
            "line": {
             "colorbar": {
              "outlinewidth": 0,
              "ticks": ""
             }
            },
            "type": "parcoords"
           }
          ],
          "pie": [
           {
            "automargin": true,
            "type": "pie"
           }
          ],
          "scatter": [
           {
            "marker": {
             "line": {
              "color": "#283442"
             }
            },
            "type": "scatter"
           }
          ],
          "scatter3d": [
           {
            "line": {
             "colorbar": {
              "outlinewidth": 0,
              "ticks": ""
             }
            },
            "marker": {
             "colorbar": {
              "outlinewidth": 0,
              "ticks": ""
             }
            },
            "type": "scatter3d"
           }
          ],
          "scattercarpet": [
           {
            "marker": {
             "colorbar": {
              "outlinewidth": 0,
              "ticks": ""
             }
            },
            "type": "scattercarpet"
           }
          ],
          "scattergeo": [
           {
            "marker": {
             "colorbar": {
              "outlinewidth": 0,
              "ticks": ""
             }
            },
            "type": "scattergeo"
           }
          ],
          "scattergl": [
           {
            "marker": {
             "line": {
              "color": "#283442"
             }
            },
            "type": "scattergl"
           }
          ],
          "scattermapbox": [
           {
            "marker": {
             "colorbar": {
              "outlinewidth": 0,
              "ticks": ""
             }
            },
            "type": "scattermapbox"
           }
          ],
          "scatterpolar": [
           {
            "marker": {
             "colorbar": {
              "outlinewidth": 0,
              "ticks": ""
             }
            },
            "type": "scatterpolar"
           }
          ],
          "scatterpolargl": [
           {
            "marker": {
             "colorbar": {
              "outlinewidth": 0,
              "ticks": ""
             }
            },
            "type": "scatterpolargl"
           }
          ],
          "scatterternary": [
           {
            "marker": {
             "colorbar": {
              "outlinewidth": 0,
              "ticks": ""
             }
            },
            "type": "scatterternary"
           }
          ],
          "surface": [
           {
            "colorbar": {
             "outlinewidth": 0,
             "ticks": ""
            },
            "colorscale": [
             [
              0,
              "#0d0887"
             ],
             [
              0.1111111111111111,
              "#46039f"
             ],
             [
              0.2222222222222222,
              "#7201a8"
             ],
             [
              0.3333333333333333,
              "#9c179e"
             ],
             [
              0.4444444444444444,
              "#bd3786"
             ],
             [
              0.5555555555555556,
              "#d8576b"
             ],
             [
              0.6666666666666666,
              "#ed7953"
             ],
             [
              0.7777777777777778,
              "#fb9f3a"
             ],
             [
              0.8888888888888888,
              "#fdca26"
             ],
             [
              1,
              "#f0f921"
             ]
            ],
            "type": "surface"
           }
          ],
          "table": [
           {
            "cells": {
             "fill": {
              "color": "#506784"
             },
             "line": {
              "color": "rgb(17,17,17)"
             }
            },
            "header": {
             "fill": {
              "color": "#2a3f5f"
             },
             "line": {
              "color": "rgb(17,17,17)"
             }
            },
            "type": "table"
           }
          ]
         },
         "layout": {
          "annotationdefaults": {
           "arrowcolor": "#f2f5fa",
           "arrowhead": 0,
           "arrowwidth": 1
          },
          "autotypenumbers": "strict",
          "coloraxis": {
           "colorbar": {
            "outlinewidth": 0,
            "ticks": ""
           }
          },
          "colorscale": {
           "diverging": [
            [
             0,
             "#8e0152"
            ],
            [
             0.1,
             "#c51b7d"
            ],
            [
             0.2,
             "#de77ae"
            ],
            [
             0.3,
             "#f1b6da"
            ],
            [
             0.4,
             "#fde0ef"
            ],
            [
             0.5,
             "#f7f7f7"
            ],
            [
             0.6,
             "#e6f5d0"
            ],
            [
             0.7,
             "#b8e186"
            ],
            [
             0.8,
             "#7fbc41"
            ],
            [
             0.9,
             "#4d9221"
            ],
            [
             1,
             "#276419"
            ]
           ],
           "sequential": [
            [
             0,
             "#0d0887"
            ],
            [
             0.1111111111111111,
             "#46039f"
            ],
            [
             0.2222222222222222,
             "#7201a8"
            ],
            [
             0.3333333333333333,
             "#9c179e"
            ],
            [
             0.4444444444444444,
             "#bd3786"
            ],
            [
             0.5555555555555556,
             "#d8576b"
            ],
            [
             0.6666666666666666,
             "#ed7953"
            ],
            [
             0.7777777777777778,
             "#fb9f3a"
            ],
            [
             0.8888888888888888,
             "#fdca26"
            ],
            [
             1,
             "#f0f921"
            ]
           ],
           "sequentialminus": [
            [
             0,
             "#0d0887"
            ],
            [
             0.1111111111111111,
             "#46039f"
            ],
            [
             0.2222222222222222,
             "#7201a8"
            ],
            [
             0.3333333333333333,
             "#9c179e"
            ],
            [
             0.4444444444444444,
             "#bd3786"
            ],
            [
             0.5555555555555556,
             "#d8576b"
            ],
            [
             0.6666666666666666,
             "#ed7953"
            ],
            [
             0.7777777777777778,
             "#fb9f3a"
            ],
            [
             0.8888888888888888,
             "#fdca26"
            ],
            [
             1,
             "#f0f921"
            ]
           ]
          },
          "colorway": [
           "#636efa",
           "#EF553B",
           "#00cc96",
           "#ab63fa",
           "#FFA15A",
           "#19d3f3",
           "#FF6692",
           "#B6E880",
           "#FF97FF",
           "#FECB52"
          ],
          "font": {
           "color": "#f2f5fa"
          },
          "geo": {
           "bgcolor": "rgb(17,17,17)",
           "lakecolor": "rgb(17,17,17)",
           "landcolor": "rgb(17,17,17)",
           "showlakes": true,
           "showland": true,
           "subunitcolor": "#506784"
          },
          "hoverlabel": {
           "align": "left"
          },
          "hovermode": "closest",
          "mapbox": {
           "style": "dark"
          },
          "paper_bgcolor": "rgb(17,17,17)",
          "plot_bgcolor": "rgb(17,17,17)",
          "polar": {
           "angularaxis": {
            "gridcolor": "#506784",
            "linecolor": "#506784",
            "ticks": ""
           },
           "bgcolor": "rgb(17,17,17)",
           "radialaxis": {
            "gridcolor": "#506784",
            "linecolor": "#506784",
            "ticks": ""
           }
          },
          "scene": {
           "xaxis": {
            "backgroundcolor": "rgb(17,17,17)",
            "gridcolor": "#506784",
            "gridwidth": 2,
            "linecolor": "#506784",
            "showbackground": true,
            "ticks": "",
            "zerolinecolor": "#C8D4E3"
           },
           "yaxis": {
            "backgroundcolor": "rgb(17,17,17)",
            "gridcolor": "#506784",
            "gridwidth": 2,
            "linecolor": "#506784",
            "showbackground": true,
            "ticks": "",
            "zerolinecolor": "#C8D4E3"
           },
           "zaxis": {
            "backgroundcolor": "rgb(17,17,17)",
            "gridcolor": "#506784",
            "gridwidth": 2,
            "linecolor": "#506784",
            "showbackground": true,
            "ticks": "",
            "zerolinecolor": "#C8D4E3"
           }
          },
          "shapedefaults": {
           "line": {
            "color": "#f2f5fa"
           }
          },
          "sliderdefaults": {
           "bgcolor": "#C8D4E3",
           "bordercolor": "rgb(17,17,17)",
           "borderwidth": 1,
           "tickwidth": 0
          },
          "ternary": {
           "aaxis": {
            "gridcolor": "#506784",
            "linecolor": "#506784",
            "ticks": ""
           },
           "baxis": {
            "gridcolor": "#506784",
            "linecolor": "#506784",
            "ticks": ""
           },
           "bgcolor": "rgb(17,17,17)",
           "caxis": {
            "gridcolor": "#506784",
            "linecolor": "#506784",
            "ticks": ""
           }
          },
          "title": {
           "x": 0.05
          },
          "updatemenudefaults": {
           "bgcolor": "#506784",
           "borderwidth": 0
          },
          "xaxis": {
           "automargin": true,
           "gridcolor": "#283442",
           "linecolor": "#506784",
           "ticks": "",
           "title": {
            "standoff": 15
           },
           "zerolinecolor": "#283442",
           "zerolinewidth": 2
          },
          "yaxis": {
           "automargin": true,
           "gridcolor": "#283442",
           "linecolor": "#506784",
           "ticks": "",
           "title": {
            "standoff": 15
           },
           "zerolinecolor": "#283442",
           "zerolinewidth": 2
          }
         }
        },
        "title": {
         "text": "TI23 Hero PBan Rate and Wins if Banned"
        },
        "xaxis": {
         "title": {
          "text": "Hero"
         }
        },
        "yaxis": {
         "title": {
          "text": "Number of Games"
         }
        }
       }
      }
     },
     "metadata": {},
     "output_type": "display_data"
    }
   ],
   "source": [
    "#create bar graph\n",
    "bans_bargraph = go.Figure(data=[\n",
    "    go.Bar(name='Times Banned',x=heroes_x, y=bans_y),\n",
    "    go.Bar(name='Wins if Banned',x=heroes_x, y=wins_if_banned_y)\n",
    "    ])\n",
    "\n",
    "# Customize layout\n",
    "bans_bargraph.update_layout(title='TI23 Hero Ban Rate and Wins if Banned', xaxis_title='Hero', yaxis_title='Number of Games', template='plotly_dark', barmode='overlay')\n",
    "\n",
    "# Show the plot\n",
    "bans_bargraph.show()"
   ]
  },
  {
   "cell_type": "code",
   "execution_count": null,
   "metadata": {},
   "outputs": [],
   "source": []
  }
 ],
 "metadata": {
  "kernelspec": {
   "display_name": ".venv",
   "language": "python",
   "name": "python3"
  },
  "language_info": {
   "codemirror_mode": {
    "name": "ipython",
    "version": 3
   },
   "file_extension": ".py",
   "mimetype": "text/x-python",
   "name": "python",
   "nbconvert_exporter": "python",
   "pygments_lexer": "ipython3",
   "version": "3.12.0"
  }
 },
 "nbformat": 4,
 "nbformat_minor": 2
}
